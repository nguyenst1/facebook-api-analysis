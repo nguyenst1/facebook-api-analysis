{
 "cells": [
  {
   "cell_type": "markdown",
   "metadata": {},
   "source": [
    "# Notebook 3: Graphs and visualizations"
   ]
  },
  {
   "cell_type": "markdown",
   "metadata": {},
   "source": [
    "After finishing the second notebook, we decided that roughly most of the projects were finished. Furthermore, we no longer needed to meet up and discuss. Therefore, each of us would do visualization for each two questions. The technology that we will use for our visualization and analysis is Tableau. We will import the csv files that we created in the second notebook into Tableau. Furthermore, we decide that we would also use SQL to manipulate the dataframe since our tables are not yet tidied. We use SQL Workbench to pivot our liked photos and liked posts tables."
   ]
  },
  {
   "cell_type": "markdown",
   "metadata": {
    "collapsed": true
   },
   "source": [
    "### Demographic for places that we were tagged in"
   ]
  },
  {
   "cell_type": "markdown",
   "metadata": {},
   "source": [
    "We are interested in demographic analysis for places that we have been tagged on Facebook. We wanted to find out where we have been travelling throughout the time using Facebook. Using map visualization(s), and augmenting with some descriptive measures(latitudes and longitudes) that are recorded from Facebook Graph API, answer this question. In this project, our map visualization will be based on countries, not states, as we usually did in the previous projects."
   ]
  },
  {
   "cell_type": "markdown",
   "metadata": {},
   "source": [
    "First, let's illustrate a map visualization that represents places that we have been tagged on Facebook to see where we have been travelling."
   ]
  },
  {
   "cell_type": "markdown",
   "metadata": {},
   "source": [
    "![Name](tagged_places.png)"
   ]
  },
  {
   "cell_type": "markdown",
   "metadata": {},
   "source": [
    "The map visualization represents the places that we have been tagged when using Facebook. It shows world map and the red dots representing the place that we have travelled, based on the latitudes and longitudes. As we can see, around the Eastern Region of the United States is the place that we are mostly tagged. This is correct, since we both are college students and both go to Denison University, which is in the East of the United States. As a result, majority of places that we have been tagged are around Ohio area, whose latitude and longitude are 39.99 and -82.9. For some special ocassions, such as during breaks, we travel around the region that closed to our campus, therefore, there are also some red dots in Virginia, Delaware, New Jersey, and Massachusetts. The fact that the red dots are only around Ohio area because when traveling, we decide to choose some places that closed to our school so that will save much money and time since break is short. The only place from the West that we have been tagged on Facebook is California. This could be during Winter Break, which is a month-long break, we have more time to travel. Furthermore, as computer science majors, we would also like to travel to California despite the distance since we want to visit the large tech company such as Facebook, Google,... As we can see, this does make sense since California, whose latitude and longitude are 32.85 and -117.3, is the only place that far from Ohio that we would travel.\n",
    "\n",
    "Another places that we also have been tagged on Facebook are United Kingdom, whose latitude and longitude are 51.84 and -2.2 and India, whose latitude and longitude are 22.54 and 88.4. This makes sense. We went to United Kingdom to study abroad for a Spring Semester, therefore, we have been tagged in the United Kingdom on Facebook. Furthermore, there are also some red dots in India area. This is because we from India and we visit India during summer. As a result, it is recorded on Facebook and represented by some red dots. Overall, the graph API is really accurate. It records every places that we have been travelling. As we can see, this Facebook Graph API is really useful for someone who wants to find a specific location of a person."
   ]
  },
  {
   "cell_type": "markdown",
   "metadata": {},
   "source": [
    "### Top 20 frequency of friends who like our photos and posts"
   ]
  },
  {
   "cell_type": "markdown",
   "metadata": {},
   "source": [
    "In a more quantitive way, we want to find out who are the top 20 friends who like our photos or posts the most, based on names and the total number of likes from the algorithm that we design in the previous notebook. With a well-constructed/annotated stacked bar graph, answers this question.\n",
    "\n",
    "Let's create a bar plot that represents the top 20 friends who like our photos on Facebook."
   ]
  },
  {
   "cell_type": "markdown",
   "metadata": {},
   "source": [
    "![Name](liked_photo.png)"
   ]
  },
  {
   "cell_type": "markdown",
   "metadata": {},
   "source": [
    "The bar graph shows the total number of likes for our top 20 friends that like our photo the most. This graph shows that after Farhan, Varun Shar is the one who likes our photos the most, which is 20 likes. The average likes from other friends is around 9 likes for our photos. This plot makes sense, since we the top 20 friends who like post are the ones that are very closed to us. To be specific, Varun Shar is our best friend, therefore, she follows our page and gives many likes for all of our photos. The others are also closed to us, but not as closed as Varun Shar. Therefore, their average number of likes is only around 9. The friend that gives us lowest likes is Gargi Malhora, who likes our photos 5 times. Needless to say, Gargi is least closed to us compare to the other friends.\n",
    "\n",
    "Furthermore, our Facebook pages are not really active, since we do not always post stuff on them. Therefore, 20 photos are a lot. Varun Shar gives us 20 likes, in other word, she likes 20 photos of ours. Therefore, we can say that since she is our closest friend, she gives us the most likes. The more closed they are, the more likes they give us and vice versa. However, we can dictate the fact whether our friends are closed to us just based on the number of likes they give. There are some special ocassions that our friends are closed but they do not use Facebook often. Therefore, they do not follow us that often so that they could give us likes. Drawing analysis on how closed our friends are based on number of likes that they give is not really accurate. Therefore, we will not assume \"the friendship\" on number of likes on Facebook. However, we will also want to see if this is really correct since our modern society is influenced largely by technology and social medial. As we result, we will draw an analysis on number of likes on EVERY posts that we have posted on Facebook, not just photos. Posts can be status, shares, events, or videos."
   ]
  },
  {
   "cell_type": "markdown",
   "metadata": {},
   "source": [
    "### Top 20 frequency of friends who like every of our post on Facebook"
   ]
  },
  {
   "cell_type": "markdown",
   "metadata": {},
   "source": [
    "We want to see if there is any different between the top friends who like our photos and the top friends who like our post. If there is not much different, we can maybe assume that \"friendship\" is dictated by the use of Facebook, or social media in general. Same as the previous analysis, we will also use stacked bar plot to represents number of likes for our demonstration."
   ]
  },
  {
   "cell_type": "markdown",
   "metadata": {},
   "source": [
    "![Name](liked_post.png)"
   ]
  },
  {
   "cell_type": "markdown",
   "metadata": {},
   "source": [
    "The bar graph shows the total number of likes for our top 20 friends that like our posts the most. This graph shows that Varun Shar is also one who likes our photos the most, which is 53 likes. The average likes from other friends is around 23 likes for our posts. Now, we can clearly say that Varun Shar is our best friend, based on the number of likes that she gives. Beside Varun, some of the friends in the top 20 frequency for our post is different compare the previous top 20. The friends who remain in the list are Keshav Khemka, Mallika Kapur, Varun Shar, and Nikhil Shrestha. As we can see, we cannot assume how closed our friends are to us based on the number of likes that they give. This is due to the fact that those who like our photos the most are not necessary those who also like our post. But we can assume that Keshav Khemka, Mallika Kapur, Varun Shar, and Nikhil Shrestha give the most like to our posts since they are the closest to us. In this graph, Varun Shar has the most likes, since obviously she is our best friend. She follows our page and gives us like for our photos, and posts. The one that gives us least number of likes is Vivan Bhagat. \n",
    "\n",
    "As we mentioned above, our Facebook pages are not really active, and we do not always post stuff on them. Therefore, the number of likes that they give us is significant. As we can see, after two bar graphs, we cannot dictact the fact that whether our friends are closed to us based on the number of likes they give. The question is not how number of likes dictacte how closed our friends are, but it is whether we can decide the relationship between our best friends and number of likes. Indeed, there is a relationship between these two. In real life, Keshav Khemka, Mallika Kapur, Varun Shar, and Nikhil Shrestha are surely our best friends. As a result, when we draw an analysis on them, we can see that due to being our best friends, the number of likes that they give for our posts are the highest."
   ]
  },
  {
   "cell_type": "markdown",
   "metadata": {},
   "source": [
    "## Compare Donald Trump's and Hillary Clinton's social media image by looking at the reaction types for their posts\n",
    "\n",
    "In order to make this comparison, we have reaction data for the past 200 post. Each post has frequency data of each reaction type. Hence, each row observation is a post with data on the number of 'LOVE', 'ANGRY', 'WOW' etc reactions made. We have obtained this data for Donald Trump and Hillary Clinton using Facebook's Graph APIs.  \n",
    "\n",
    "In the two graphs below, we have plotted Hillary Clinton's data in a histogram for each post. The actual graph is fairly long and these are 2 cropped versions displayed here. \n",
    "\n",
    "1. The Y-Axis shows the number of reactions\n",
    "2. the X-Axis shows the type of reaction"
   ]
  },
  {
   "cell_type": "markdown",
   "metadata": {},
   "source": [
    "##### Number of each kind of reactions for posts by Hillary Clinton"
   ]
  },
  {
   "cell_type": "markdown",
   "metadata": {},
   "source": [
    "![Hillary2](Hillary2.png)\n",
    "![Hillary2](Hillary3.png)\n",
    "\n",
    "The two graphs below, do the same for Donald Trump"
   ]
  },
  {
   "cell_type": "markdown",
   "metadata": {},
   "source": [
    "##### Number of each kind of reactions for posts by Donald Trump"
   ]
  },
  {
   "cell_type": "markdown",
   "metadata": {},
   "source": [
    "![trump](trump2.png)\n",
    "![trump](trump3.png)"
   ]
  },
  {
   "cell_type": "markdown",
   "metadata": {},
   "source": [
    "On comparing the graphs above, we can see that both politicians recieve a large amount of 'LOVE'. This is probably because users on FB follow and post on pages they like. But by the dark blue bar, we see that the emotion of 'ANGER' is expressed a lot more frequently on Donald Trump's post than Hillary's. While Hillary's posts seem to render many reactions of 'SADNESS'. The 'WOW' factors in both their posts are minimal in comparison to other reactions while 'HAHA' reactions are fairly similar to both users. Hence, Donald Trump seems to foster more reactions of 'HATE' on his posts in comparison to Hillary and Hillary fosters"
   ]
  },
  {
   "cell_type": "markdown",
   "metadata": {},
   "source": [
    "## Exploration of Bob Dylan's Facebook Feed\n",
    "\n",
    "\n",
    "For our Facebook feed data, we chose Bob Dylan to explore. Using the graph API, we obtained information about the times and dates of his post, the types of his post and the popularity of his posts based on Facebook shares by other users(in this case his fan following). \n",
    "\n",
    "The Pie chart below shows the porportion of status-type of each upload in  pie-chart. The key is shown to the right of the chart. the number beside each slice shows the average number of shares for that status type. The highest number of shares are for his videos, averaging at 11,970 per post. This makes sense as he is a music artist and videos containing his music would be more popular among fans. The next most shared type are his photos at an average of 4,733 per post. "
   ]
  },
  {
   "cell_type": "markdown",
   "metadata": {},
   "source": [
    "#### Pie-Chart showing the porpotions of different types of statuses in Bob-Dylans FB feed and also the average number of shares per status-type"
   ]
  },
  {
   "cell_type": "markdown",
   "metadata": {},
   "source": [
    "![Dylan1](Dylan1.png)"
   ]
  },
  {
   "cell_type": "markdown",
   "metadata": {},
   "source": [
    "In the graphs below, we have plotted the frequency of Bob Dylan's post between 17th November and 11th December"
   ]
  },
  {
   "cell_type": "markdown",
   "metadata": {},
   "source": [
    "![Dylan2](Dylan2.png)"
   ]
  },
  {
   "cell_type": "markdown",
   "metadata": {},
   "source": [
    "In the graph above, we can see that Bob is fairly active on facebook making between 2-8 posts a day. But he is not consistent in the number of posts per day. On some days we see a spike to 9 posts (29th november) and on some days only a single post (19th November)"
   ]
  },
  {
   "cell_type": "markdown",
   "metadata": {},
   "source": [
    "![Dylan3](Dylan3.png)"
   ]
  },
  {
   "cell_type": "markdown",
   "metadata": {},
   "source": [
    "This similar to the graph above, but now we see several frequency lines. Each line represents a different type of post. Being a musician, videos are the most frequent status type posed by him with only a few mobile-story-updates. \n",
    "\n",
    "The graph below is yet another way to view the data visualized above. In the visualization below, it is segmented by post type. "
   ]
  },
  {
   "cell_type": "markdown",
   "metadata": {},
   "source": [
    "![Dylan4](Dylan4.png)"
   ]
  },
  {
   "cell_type": "markdown",
   "metadata": {},
   "source": [
    "### Conclusion\n",
    "\n",
    "In conclusion, in this project, we explores the Facebook Graph API and discover what it can do, what information we can get from it. The topics that we are interested in analyzing in our project are the top 20 friends who like our photos, our posts, demographic analysis on places that we have been tagged on Facebook, Donald Trump's and Hilary Clinton's post reaction, and Facebook events. We have learned a lot through out the project. In computer science aspect, we have the opporunity to shapern our skills in using API, getting request from website, using pandas dataframe in python, and practicing Python algorithms in general. Furthermore, we also strengthen our ability in analyzing practical data through Tableau and apply it into the real world problem. \n",
    "\n",
    "Outside of computer science aspect, we also discover what is a Facebook Graph API, how it gets information from Facebook users. We are also surpised and worried of how privacy can easily be invaded, and how sensitive information can easily be accessed. For someone who is a professional at using Facebook Graph API, it would take him/her 5 seconds to get all kind of information from Facebook. We hope that Facebook would fix and reconstruct the Graph API so that user do not have to worry about being invaded. However, we also believe that Facebook purposedly wants people to access our information. They probaby get paid from companies who want to advertise their products. They want our information such as our hobbies, our interests, so that they can specify the advertisement that we, Facebook user will receive."
   ]
  }
 ],
 "metadata": {
  "kernelspec": {
   "display_name": "Python 3",
   "language": "python",
   "name": "python3"
  },
  "language_info": {
   "codemirror_mode": {
    "name": "ipython",
    "version": 3
   },
   "file_extension": ".py",
   "mimetype": "text/x-python",
   "name": "python",
   "nbconvert_exporter": "python",
   "pygments_lexer": "ipython3",
   "version": "3.6.1"
  }
 },
 "nbformat": 4,
 "nbformat_minor": 2
}
